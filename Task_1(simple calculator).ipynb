{
 "cells": [
  {
   "cell_type": "code",
   "execution_count": 16,
   "metadata": {},
   "outputs": [],
   "source": [
    "class calculator :\n",
    "    \n",
    "    def __init__(self,num1,num2) :\n",
    "        self.num1 = num1\n",
    "        self.num2 = num2\n",
    "\n",
    "    result=0\n",
    "    def addition(self) :\n",
    "        \"\"\" describtion this function add two number (+)\n",
    "            part1:take first number from user\n",
    "            type:float or int\n",
    "            part2:take second number from user\n",
    "            type:float or int\n",
    "        \"\"\"\n",
    "        result = self.num1 + self.num2\n",
    "        print(f\"{self.num1} + {self.num2} = {result}\")\n",
    "\n",
    "    def subtraction(self):\n",
    "        \"\"\" describtion this function subtract two number(-)\n",
    "            part1:take first number from user\n",
    "            type:float or int\n",
    "            part2:take second number from user\n",
    "            type:float or int\n",
    "        \"\"\"\n",
    "        result = self.num1 - self.num2\n",
    "        print(f\"{self.num1} - {self.num2} = {result}\")\n",
    "\n",
    "    def multiplication(self):\n",
    "        \"\"\" describtion this function multiply two number(*)\n",
    "            part1:take first number from user\n",
    "            type:float or int\n",
    "            part2:take second number from user\n",
    "            type:float or int\n",
    "        \"\"\"\n",
    "        result = self.num1 * self.num2\n",
    "        print(f\"{self.num1} * {self.num2} = {result}\")\n",
    "    \n",
    "    \n",
    "    def devision(self):\n",
    "        \"\"\" describtion this function devide two number(/)\n",
    "            part1:take first number from user\n",
    "            type:float or int\n",
    "            part2:take second number from user\n",
    "            type:float or int\n",
    "        \"\"\"\n",
    "        if self.num2 == 0:\n",
    "            print(\"Error:cannot devide by zero\")\n",
    "            print(\"please enter any number except zero\")\n",
    "        else:\n",
    "            result = self.num1 / self.num2\n",
    "        print(f\"{self.num1} / {self.num2} = {result}\")\n"
   ]
  },
  {
   "cell_type": "code",
   "execution_count": 18,
   "metadata": {},
   "outputs": [
    {
     "name": "stdout",
     "output_type": "stream",
     "text": [
      "2 + 3 = 5\n",
      "<__main__.calculator object at 0x00000199F8C40470>\n"
     ]
    }
   ],
   "source": [
    "s1=calculator(2,3)\n",
    "s1.addition()\n",
    "print(s1)"
   ]
  }
 ],
 "metadata": {
  "kernelspec": {
   "display_name": "env",
   "language": "python",
   "name": "python3"
  },
  "language_info": {
   "codemirror_mode": {
    "name": "ipython",
    "version": 3
   },
   "file_extension": ".py",
   "mimetype": "text/x-python",
   "name": "python",
   "nbconvert_exporter": "python",
   "pygments_lexer": "ipython3",
   "version": "3.12.4"
  }
 },
 "nbformat": 4,
 "nbformat_minor": 2
}
