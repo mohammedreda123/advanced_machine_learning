{
 "cells": [
  {
   "cell_type": "code",
   "execution_count": 1,
   "metadata": {},
   "outputs": [],
   "source": [
    "def merge_string_alter(word1, word2):\n",
    "    \"\"\"\n",
    "    describtion of this function :Merges two strings by alternating letters,starting with word1\n",
    "    Parameter:\n",
    "    word1:first string and  take from user\n",
    "    type: string\n",
    "\n",
    "    word2:second string and  take from user\n",
    "    type: string\n",
    "\n",
    "    Returns:\n",
    "      The merged string\n",
    "    \"\"\"\n",
    "    merged_string = \"\"\n",
    "    if len(word1) >= len(word2):\n",
    "      longer_word = word1\n",
    "    else:\n",
    "      longer_word = word2\n",
    "\n",
    "  ########################################################\n",
    "\n",
    "    if len(word1) < len(word2):\n",
    "      shorter_word = word1\n",
    "    else:\n",
    "      shorter_word = word2\n",
    "\n",
    "  ########################################################\n",
    "\n",
    "    for i in range(len(longer_word)):\n",
    "            merged_string += longer_word[i] + \" \"\n",
    "            if i < len(shorter_word):\n",
    "                merged_string += shorter_word[i] + \" \"\n",
    "\n",
    "    return merged_string.strip()\n",
    "\n"
   ]
  },
  {
   "cell_type": "code",
   "execution_count": 2,
   "metadata": {},
   "outputs": [
    {
     "name": "stdout",
     "output_type": "stream",
     "text": [
      "choice from this option :\n",
      "1.merge_string_alter\n",
      "2.exit\n",
      "the first word is :  a b c\n",
      "the second word is :  p q r\n",
      "After Merged strings : a p b q c r\n",
      "choice from this option :\n",
      "1.merge_string_alter\n",
      "2.exit\n",
      "the first word is :  a b c d\n",
      "the second word is :  p q\n",
      "After Merged strings : a p b q c d\n",
      "choice from this option :\n",
      "1.merge_string_alter\n",
      "2.exit\n"
     ]
    }
   ],
   "source": [
    "while True :\n",
    "  print(\"choice from this option :\")\n",
    "  print(\"1.merge_string_alter\")\n",
    "  print(\"2.exit\")\n",
    "  choice = input(\"please enter your choice : \")\n",
    "  if choice == \"1\":\n",
    "    word1=input(\"please enter first word : \")\n",
    "    for i in range(len(word1)):\n",
    "      if word1[i].isupper():\n",
    "        word1=word1.replace(word1[i],word1[i].lower())\n",
    "    print( \"the first word is : \" , *word1 )\n",
    "    word2=input(\"please enter second word : \")\n",
    "    for i in range(len(word2)):\n",
    "      if word2[i].isupper():\n",
    "        word2=word2.replace(word2[i],word2[i].lower())\n",
    "    print( \"the second word is : \" , *word2 )\n",
    "    print(f\"After Merged strings : {merge_string_alter(word1, word2)}\")\n",
    "    \n",
    "  elif choice == \"2\":\n",
    "    break\n",
    "  else :\n",
    "    print(\"invalid choice\")"
   ]
  }
 ],
 "metadata": {
  "kernelspec": {
   "display_name": "Python 3",
   "language": "python",
   "name": "python3"
  },
  "language_info": {
   "codemirror_mode": {
    "name": "ipython",
    "version": 3
   },
   "file_extension": ".py",
   "mimetype": "text/x-python",
   "name": "python",
   "nbconvert_exporter": "python",
   "pygments_lexer": "ipython3",
   "version": "3.12.4"
  }
 },
 "nbformat": 4,
 "nbformat_minor": 2
}
