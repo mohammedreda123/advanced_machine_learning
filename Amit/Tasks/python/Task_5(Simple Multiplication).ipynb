{
 "cells": [
  {
   "cell_type": "code",
   "execution_count": 1,
   "metadata": {},
   "outputs": [],
   "source": [
    "def multiplication(number):\n",
    "  \"\"\"\n",
    "  Describtion of this function (multiplication):\n",
    "  #Multiplies a given number by eight if it is an even number and by nine otherwise.\n",
    "  #parameter:\n",
    "      1)number: The number to multiply.\n",
    "\n",
    "  #Returns:\n",
    "    The result of the multiplication.\n",
    "  \"\"\"\n",
    "  if number > 0 : \n",
    "    print(\"Welcome, The number is positive so i can multiply;\")\n",
    "    print()\n",
    "    if number % 2 ==0 :\n",
    "      print(f\"I will multiply this number : {number} in '8' because it is even number\")\n",
    "      Result = number * 8\n",
    "    else :\n",
    "      print(f\"I will multiply this number : {number} in '9' because it is odd number\")\n",
    "      Result = number * 9\n",
    "    return Result\n",
    "  else :\n",
    "    print(\"The number is negative . please enter positive number\")"
   ]
  },
  {
   "cell_type": "code",
   "execution_count": 2,
   "metadata": {},
   "outputs": [
    {
     "name": "stdout",
     "output_type": "stream",
     "text": [
      "please choose from this list\n",
      "1. Multiplication\n",
      "2. Exit\n",
      "\n",
      "you are enter number :20\n",
      "\n",
      "Welcome, The number is positive so i can multiply;\n",
      "\n",
      "I will multiply this number : 20 in '8' because it is even number\n",
      "the Number after Multiplication : 160\n",
      "\n",
      "please choose from this list\n",
      "1. Multiplication\n",
      "2. Exit\n",
      "\n",
      "you are enter number :-10\n",
      "\n",
      "The number is negative . please enter positive number\n",
      "the Number after Multiplication : None\n",
      "\n",
      "please choose from this list\n",
      "1. Multiplication\n",
      "2. Exit\n",
      "\n",
      "you are enter number :5\n",
      "\n",
      "Welcome, The number is positive so i can multiply;\n",
      "\n",
      "I will multiply this number : 5 in '9' because it is odd number\n",
      "the Number after Multiplication : 45\n",
      "\n",
      "please choose from this list\n",
      "1. Multiplication\n",
      "2. Exit\n",
      "\n",
      "Exit program\n"
     ]
    }
   ],
   "source": [
    "while True:\n",
    "  print(\"please choose from this list\")\n",
    "  print(\"1. Multiplication\")\n",
    "  print(\"2. Exit\")\n",
    "  choice = input(\"please enter your choice : \")\n",
    "  print()\n",
    "  if choice == \"1\":\n",
    "    number = int(input(\"Please enter a number : \"))\n",
    "    print(f\"you are enter number :{number}\")\n",
    "    print()\n",
    "    result = multiplication(number)\n",
    "    print (f\"the Number after Multiplication : {result}\")\n",
    "    print()\n",
    "  elif choice == \"2\" :\n",
    "    print(\"Exit program\")\n",
    "    break\n",
    "  else :\n",
    "    print(\"Invalid choice you must be choice '1' or '2'\")"
   ]
  }
 ],
 "metadata": {
  "kernelspec": {
   "display_name": "Python 3",
   "language": "python",
   "name": "python3"
  },
  "language_info": {
   "codemirror_mode": {
    "name": "ipython",
    "version": 3
   },
   "file_extension": ".py",
   "mimetype": "text/x-python",
   "name": "python",
   "nbconvert_exporter": "python",
   "pygments_lexer": "ipython3",
   "version": "3.12.4"
  }
 },
 "nbformat": 4,
 "nbformat_minor": 2
}
