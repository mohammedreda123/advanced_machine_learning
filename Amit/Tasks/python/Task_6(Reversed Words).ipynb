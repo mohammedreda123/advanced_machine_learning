{
 "cells": [
  {
   "cell_type": "code",
   "execution_count": 3,
   "metadata": {},
   "outputs": [],
   "source": [
    "def reverse_sentence(sentence):\n",
    "  \"\"\"\n",
    "  Describtion of this function(reverse_sentence):\n",
    "  #reverses all of the words within the string passed in.\n",
    "\n",
    "  #parameter:\n",
    "      1)sentence : string\n",
    "  \n",
    "  \"\"\"\n",
    "  # Split the sentence into words\n",
    "  words = sentence.split() \n",
    "\n",
    "  # Reverse the order of words \n",
    "  reversed_words = words[::-1]  # Reverse the order of words\n",
    "\n",
    "   # Join the words back into a string\n",
    "  reversed_sentence = \" \".join(reversed_words)  # Join the words back into a string\n",
    "  return reversed_sentence\n",
    "\n"
   ]
  },
  {
   "cell_type": "code",
   "execution_count": 4,
   "metadata": {},
   "outputs": [
    {
     "name": "stdout",
     "output_type": "stream",
     "text": [
      " you have entered the sentence successfully.\n",
      "You entered the sentence: Mohamed Reda Ramadan Khamis\n",
      "\n",
      "Do you want to reverse this sentence? ('yes' or 'no')\n",
      "Successfully reversed the sentence: Mohamed Reda Ramadan Khamis to: Khamis Ramadan Reda Mohamed\n",
      "\n",
      "Finally:\n",
      "The result is: Khamis Ramadan Reda Mohamed\n",
      " you have entered the sentence successfully.\n",
      "You entered the sentence: Mohamed Reda\n",
      "\n",
      "Do you want to reverse this sentence? ('yes' or 'no')\n",
      "you are choice 'No' so you are not want to Reversed \n",
      "Exit program\n"
     ]
    }
   ],
   "source": [
    "while True:\n",
    "    sentence = input(\"Please enter the sentence: \")\n",
    "    print(\" you have entered the sentence successfully.\")\n",
    "    print(f\"You entered the sentence: {sentence}\")\n",
    "    print()\n",
    "\n",
    "    print(\"Do you want to reverse this sentence? ('yes' or 'no')\")\n",
    "    choice = input().lower()\n",
    "\n",
    "    if choice == \"yes\":\n",
    "        reversed_sentence = reverse_sentence(sentence)\n",
    "        print(f\"Successfully reversed the sentence: {sentence} to: {reversed_sentence}\")\n",
    "        print()\n",
    "        print(\"Finally:\")\n",
    "        print(f\"The result is: {reversed_sentence}\")\n",
    "    else:\n",
    "        print(\"you are choice 'No' so you are not want to Reversed \")\n",
    "        print(\"Exit program\")\n",
    "        break  "
   ]
  }
 ],
 "metadata": {
  "kernelspec": {
   "display_name": "Python 3",
   "language": "python",
   "name": "python3"
  },
  "language_info": {
   "codemirror_mode": {
    "name": "ipython",
    "version": 3
   },
   "file_extension": ".py",
   "mimetype": "text/x-python",
   "name": "python",
   "nbconvert_exporter": "python",
   "pygments_lexer": "ipython3",
   "version": "3.12.4"
  }
 },
 "nbformat": 4,
 "nbformat_minor": 2
}
