{
 "cells": [
  {
   "cell_type": "code",
   "execution_count": 1,
   "metadata": {},
   "outputs": [
    {
     "data": {
      "text/plain": [
       "'\\nDetermine If a Person Is Playing Banjo\\nGoal: Create a function that checks if a person plays banjo based on their name.\\n\\nSteps:\\nUnderstand the Problem:\\n\\nIf the name starts with \"R\" or \"r\", the person plays banjo.\\nIf not, they do not play banjo.\\nDefine the Input:\\n\\nA single input, name, is given as a string.\\nDetermine the Condition:\\n\\nUse string methods to check if the first character of the name is either \\'R\\' or \\'r\\'.\\nImplement the Logic:\\n\\nIf the name starts with \\'R\\' or \\'r\\', return the string: name + \" plays banjo\".\\nOtherwise, return the string: name + \" does not play banjo\".\\nWrite the Function:\\n\\nDefine the function that takes name as an argument.\\nUse conditional statements to check the first character of the name.\\nTest Cases:\\n\\nPrepare test cases to verify the function:\\nExample: (\"Rick\") should return \"Rick plays banjo\".\\nExample: (\"Alice\") should return \"Alice does not play banjo\".\\n'"
      ]
     },
     "execution_count": 1,
     "metadata": {},
     "output_type": "execute_result"
    }
   ],
   "source": [
    "\"\"\"\n",
    "Determine If a Person Is Playing Banjo\n",
    "Goal: Create a function that checks if a person plays banjo based on their name.\n",
    "\n",
    "Steps:\n",
    "Understand the Problem:\n",
    "\n",
    "If the name starts with \"R\" or \"r\", the person plays banjo.\n",
    "If not, they do not play banjo.\n",
    "Define the Input:\n",
    "\n",
    "A single input, name, is given as a string.\n",
    "Determine the Condition:\n",
    "\n",
    "Use string methods to check if the first character of the name is either 'R' or 'r'.\n",
    "Implement the Logic:\n",
    "\n",
    "If the name starts with 'R' or 'r', return the string: name + \" plays banjo\".\n",
    "Otherwise, return the string: name + \" does not play banjo\".\n",
    "Write the Function:\n",
    "\n",
    "Define the function that takes name as an argument.\n",
    "Use conditional statements to check the first character of the name.\n",
    "Test Cases:\n",
    "\n",
    "Prepare test cases to verify the function:\n",
    "Example: (\"Rick\") should return \"Rick plays banjo\".\n",
    "Example: (\"Alice\") should return \"Alice does not play banjo\".\n",
    "\n",
    "\"\"\""
   ]
  },
  {
   "cell_type": "code",
   "execution_count": 2,
   "metadata": {},
   "outputs": [
    {
     "data": {
      "text/plain": [
       "'\\ndef are_you_playing_banjo(name):\\n    if name[0] == \"r\" or name[0] == \"R\":\\n        print (name , \"plays banjo\")\\n    else:\\n        print (name , \"does not play banjo\")\\n\\n    return name\\n'"
      ]
     },
     "execution_count": 2,
     "metadata": {},
     "output_type": "execute_result"
    }
   ],
   "source": [
    "def are_you_playing_banjo(name):\n",
    "    \"\"\"\n",
    "    Describtion of this function(are_you_playing_banjo):\n",
    "    # Test if name is playing banjo or not\n",
    "    #parameter:\n",
    "        1)name: take name from user\n",
    "          Type: string\n",
    "    \n",
    "    \"\"\"\n",
    "    n = name.lower()\n",
    "    if n[0] == \"r\" :\n",
    "        print (name , \"plays banjo\")\n",
    "    else :\n",
    "        print (name , \"does not play banjo\")\n",
    "    return name\n",
    "##################################################################################################\n",
    "# other function : \n",
    "\"\"\"\n",
    "def are_you_playing_banjo(name):\n",
    "    if name[0] == \"r\" or name[0] == \"R\":\n",
    "        print (name , \"plays banjo\")\n",
    "    else:\n",
    "        print (name , \"does not play banjo\")\n",
    "\n",
    "    return name\n",
    "\"\"\""
   ]
  },
  {
   "cell_type": "code",
   "execution_count": 3,
   "metadata": {},
   "outputs": [
    {
     "name": "stdout",
     "output_type": "stream",
     "text": [
      "Choose from list:\n",
      "1. Check if the person plays banjo\n",
      "2. Exit\n",
      "you are enter name : MEDO\n",
      "MEDO does not play banjo\n",
      "Choose from list:\n",
      "1. Check if the person plays banjo\n",
      "2. Exit\n",
      "you are enter name : Rick\n",
      "Rick plays banjo\n",
      "Choose from list:\n",
      "1. Check if the person plays banjo\n",
      "2. Exit\n",
      "you are enter name : Alice\n",
      "Alice does not play banjo\n",
      "Choose from list:\n",
      "1. Check if the person plays banjo\n",
      "2. Exit\n",
      "Exiting program\n"
     ]
    }
   ],
   "source": [
    "while True:\n",
    "  print(\"Choose from list:\")\n",
    "  print(\"1. Check if the person plays banjo\")\n",
    "  print(\"2. Exit\")\n",
    "\n",
    "  try:\n",
    "    choice = int(input(\"Enter your choice: \"))\n",
    "    if choice == 1:\n",
    "      while True:  \n",
    "        name = input(\"Enter a valid name (letters only): \")\n",
    "        print(f\"you are enter name : {name}\")\n",
    "\n",
    "        if name.isalpha():\n",
    "          are_you_playing_banjo(name)\n",
    "          break  \n",
    "        else:\n",
    "          print(\"Please enter a valid name.\")\n",
    "    elif choice == 2:\n",
    "      print(\"Exiting program\")\n",
    "      break  \n",
    "    else:\n",
    "      print(\"Invalid choice. Please try again.\")\n",
    "  except ValueError:\n",
    "    print(\"Invalid input. Please enter a number.\")"
   ]
  }
 ],
 "metadata": {
  "kernelspec": {
   "display_name": "Python 3",
   "language": "python",
   "name": "python3"
  },
  "language_info": {
   "codemirror_mode": {
    "name": "ipython",
    "version": 3
   },
   "file_extension": ".py",
   "mimetype": "text/x-python",
   "name": "python",
   "nbconvert_exporter": "python",
   "pygments_lexer": "ipython3",
   "version": "3.12.4"
  }
 },
 "nbformat": 4,
 "nbformat_minor": 2
}
