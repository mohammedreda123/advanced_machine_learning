{
 "cells": [
  {
   "cell_type": "code",
   "execution_count": null,
   "metadata": {},
   "outputs": [],
   "source": [
    "def are_you_playing_banjo(name):\n",
    "    \"\"\"\n",
    "    Describtion of this function(are_you_playing_banjo):\n",
    "    # Test if name is playing banjo or not\n",
    "    # playing banjo if name start with 'r' or 'R'\n",
    "    #parameter:\n",
    "        1)name: take name from user\n",
    "          Type: string\n",
    "    \"\"\"\n",
    "    n = name.lower()\n",
    "    if n[0] == \"r\" :\n",
    "        print (name , \"plays banjo\")\n",
    "    else :\n",
    "        print (name , \"does not play banjo\")\n",
    "    return name\n",
    "##################################################################################################\n",
    "# other function : \n",
    "\"\"\"\n",
    "def are_you_playing_banjo(name):\n",
    "    if name[0] == \"r\" or name[0] == \"R\":\n",
    "        print (name , \"plays banjo\")\n",
    "    else:\n",
    "        print (name , \"does not play banjo\")\n",
    "\n",
    "    return name\n",
    "\"\"\""
   ]
  },
  {
   "cell_type": "code",
   "execution_count": 2,
   "metadata": {},
   "outputs": [
    {
     "name": "stdout",
     "output_type": "stream",
     "text": [
      "Choose from list:\n",
      "1. Check if the person plays banjo\n",
      "2. Exit\n",
      "you are enter name : MEDO\n",
      "MEDO does not play banjo\n",
      "Choose from list:\n",
      "1. Check if the person plays banjo\n",
      "2. Exit\n",
      "you are enter name : Rick\n",
      "Rick plays banjo\n",
      "Choose from list:\n",
      "1. Check if the person plays banjo\n",
      "2. Exit\n",
      "you are enter name : RANDA\n",
      "RANDA plays banjo\n",
      "Choose from list:\n",
      "1. Check if the person plays banjo\n",
      "2. Exit\n",
      "you are enter name : Alice\n",
      "Alice does not play banjo\n",
      "Choose from list:\n",
      "1. Check if the person plays banjo\n",
      "2. Exit\n",
      "Exiting program\n"
     ]
    }
   ],
   "source": [
    "while True:\n",
    "  print(\"Choose from list:\")\n",
    "  print(\"1. Check if the person plays banjo\")\n",
    "  print(\"2. Exit\")\n",
    "\n",
    "  try:\n",
    "    choice = int(input(\"Enter your choice: \"))\n",
    "    if choice == 1:\n",
    "      while True:  \n",
    "        name = input(\"Enter a valid name (letters only): \")\n",
    "        print(f\"you are enter name : {name}\")\n",
    "\n",
    "        if name.isalpha():\n",
    "          are_you_playing_banjo(name)\n",
    "          break  \n",
    "        else:\n",
    "          print(\"Please enter a valid name.\")\n",
    "    elif choice == 2:\n",
    "      print(\"Exiting program\")\n",
    "      break  \n",
    "    else:\n",
    "      print(\"Invalid choice. Please try again.\")\n",
    "  except ValueError:\n",
    "    print(\"Invalid input. Please enter a number.\")"
   ]
  }
 ],
 "metadata": {
  "kernelspec": {
   "display_name": "Python 3",
   "language": "python",
   "name": "python3"
  },
  "language_info": {
   "codemirror_mode": {
    "name": "ipython",
    "version": 3
   },
   "file_extension": ".py",
   "mimetype": "text/x-python",
   "name": "python",
   "nbconvert_exporter": "python",
   "pygments_lexer": "ipython3",
   "version": "3.12.4"
  }
 },
 "nbformat": 4,
 "nbformat_minor": 2
}
